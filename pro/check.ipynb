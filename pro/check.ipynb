{
 "cells": [
  {
   "cell_type": "code",
   "execution_count": 2,
   "metadata": {},
   "outputs": [],
   "source": [
    "import torch\n",
    "import os\n",
    "from transformers import *\n",
    "import sys\n",
    "import pickle\n",
    "import pandas as pd\n",
    "import numpy as np\n",
    "import re\n",
    "from concurrent.futures import ThreadPoolExecutor\n",
    "from sklearn.preprocessing import LabelEncoder\n",
    "from torch.optim import optimizer\n",
    "from torch.utils.data import DataLoader, RandomSampler, SequentialSampler, TensorDataset\n",
    "from torch.nn import CrossEntropyLoss,BCEWithLogitsLoss\n",
    "from tqdm import tqdm_notebook, trange\n",
    "from sklearn.metrics import precision_recall_curve,classification_report\n",
    "import matplotlib.pyplot as plt\n",
    "%matplotlib inline"
   ]
  },
  {
   "cell_type": "code",
   "execution_count": 3,
   "metadata": {},
   "outputs": [],
   "source": [
    "HOME_DIR = \"/root/pro\"\n",
    "models_dir = os.path.join(HOME_DIR, 'models')\n",
    "BERT_USING = 'chinese_rbtl3_pytorch'\n",
    "model_dir = os.path.join(models_dir, BERT_USING)"
   ]
  },
  {
   "cell_type": "code",
   "execution_count": 4,
   "metadata": {},
   "outputs": [
    {
     "data": {
      "text/html": [
       "<div>\n",
       "<style scoped>\n",
       "    .dataframe tbody tr th:only-of-type {\n",
       "        vertical-align: middle;\n",
       "    }\n",
       "\n",
       "    .dataframe tbody tr th {\n",
       "        vertical-align: top;\n",
       "    }\n",
       "\n",
       "    .dataframe thead th {\n",
       "        text-align: right;\n",
       "    }\n",
       "</style>\n",
       "<table border=\"1\" class=\"dataframe\">\n",
       "  <thead>\n",
       "    <tr style=\"text-align: right;\">\n",
       "      <th></th>\n",
       "      <th>text</th>\n",
       "      <th>label</th>\n",
       "    </tr>\n",
       "  </thead>\n",
       "  <tbody>\n",
       "    <tr>\n",
       "      <th>0</th>\n",
       "      <td>8. 胰腺炎病史</td>\n",
       "      <td>Disease</td>\n",
       "    </tr>\n",
       "    <tr>\n",
       "      <th>1</th>\n",
       "      <td>3、孕妇。</td>\n",
       "      <td>Pregnancy-related Activity</td>\n",
       "    </tr>\n",
       "    <tr>\n",
       "      <th>2</th>\n",
       "      <td>11、既往有脑积水、脑室腹腔分流术或三脑室底造瘘及终板造瘘术病史。</td>\n",
       "      <td>Skip</td>\n",
       "    </tr>\n",
       "    <tr>\n",
       "      <th>3</th>\n",
       "      <td>1、孕妇和哺乳期妇女</td>\n",
       "      <td>Pregnancy-related Activity</td>\n",
       "    </tr>\n",
       "    <tr>\n",
       "      <th>4</th>\n",
       "      <td>（4）高血压</td>\n",
       "      <td>Disease</td>\n",
       "    </tr>\n",
       "    <tr>\n",
       "      <th>5</th>\n",
       "      <td>1. 15&amp;gt;GFR≤60</td>\n",
       "      <td>Laboratory Examinations</td>\n",
       "    </tr>\n",
       "    <tr>\n",
       "      <th>6</th>\n",
       "      <td>(2) Foetal malpresentation contraindicating v...</td>\n",
       "      <td>Skip</td>\n",
       "    </tr>\n",
       "    <tr>\n",
       "      <th>7</th>\n",
       "      <td>4.窦性心律；</td>\n",
       "      <td>Sign</td>\n",
       "    </tr>\n",
       "    <tr>\n",
       "      <th>8</th>\n",
       "      <td>1、窦性心动过缓</td>\n",
       "      <td>Sign</td>\n",
       "    </tr>\n",
       "    <tr>\n",
       "      <th>9</th>\n",
       "      <td>9.在服用研究药物前28 天服用了任何改变肝酶活性的药物。</td>\n",
       "      <td>Skip</td>\n",
       "    </tr>\n",
       "    <tr>\n",
       "      <th>10</th>\n",
       "      <td>⑥妊娠者。</td>\n",
       "      <td>Pregnancy-related Activity</td>\n",
       "    </tr>\n",
       "    <tr>\n",
       "      <th>11</th>\n",
       "      <td>（7）心律失常。</td>\n",
       "      <td>Sign</td>\n",
       "    </tr>\n",
       "    <tr>\n",
       "      <th>12</th>\n",
       "      <td>1型糖尿病</td>\n",
       "      <td>Disease</td>\n",
       "    </tr>\n",
       "    <tr>\n",
       "      <th>13</th>\n",
       "      <td>5.多中心病灶。</td>\n",
       "      <td>Sign</td>\n",
       "    </tr>\n",
       "    <tr>\n",
       "      <th>14</th>\n",
       "      <td>5.肾功能正常；</td>\n",
       "      <td>Organ or Tissue Status</td>\n",
       "    </tr>\n",
       "    <tr>\n",
       "      <th>15</th>\n",
       "      <td>4）患者及家属不同意配合；</td>\n",
       "      <td>Consent</td>\n",
       "    </tr>\n",
       "    <tr>\n",
       "      <th>16</th>\n",
       "      <td>5. hemodynamically stable;</td>\n",
       "      <td>Skip</td>\n",
       "    </tr>\n",
       "    <tr>\n",
       "      <th>17</th>\n",
       "      <td>（6）糖尿病患者</td>\n",
       "      <td>Disease</td>\n",
       "    </tr>\n",
       "    <tr>\n",
       "      <th>18</th>\n",
       "      <td>(11)妊娠或哺乳期妇女及计划怀孕患者或无法采取有效避孕措施的育龄期患者,育龄期女性患者尿...</td>\n",
       "      <td>Skip</td>\n",
       "    </tr>\n",
       "    <tr>\n",
       "      <th>19</th>\n",
       "      <td>(5)通过直接提问和体检，有任何显著的临床疾病者；</td>\n",
       "      <td>Disease</td>\n",
       "    </tr>\n",
       "    <tr>\n",
       "      <th>20</th>\n",
       "      <td>1) 患者病情处于不稳定期</td>\n",
       "      <td>Non-Neoplasm Disease Stage</td>\n",
       "    </tr>\n",
       "    <tr>\n",
       "      <th>21</th>\n",
       "      <td>1）既往无耳内镜下手术史，双侧耳内镜下手术者只计入一侧；</td>\n",
       "      <td>Therapy or Surgery</td>\n",
       "    </tr>\n",
       "    <tr>\n",
       "      <th>22</th>\n",
       "      <td>（2）早产儿；</td>\n",
       "      <td>Disease</td>\n",
       "    </tr>\n",
       "    <tr>\n",
       "      <th>23</th>\n",
       "      <td>8. 妊娠、准备妊娠或哺乳期女性；</td>\n",
       "      <td>Skip</td>\n",
       "    </tr>\n",
       "    <tr>\n",
       "      <th>24</th>\n",
       "      <td>c)具有视野缺损或视觉诱发电位异常；</td>\n",
       "      <td>Disease</td>\n",
       "    </tr>\n",
       "    <tr>\n",
       "      <th>25</th>\n",
       "      <td>3. History of psychosis;</td>\n",
       "      <td>Skip</td>\n",
       "    </tr>\n",
       "    <tr>\n",
       "      <th>26</th>\n",
       "      <td>①脊柱外科手术史。</td>\n",
       "      <td>Therapy or Surgery</td>\n",
       "    </tr>\n",
       "    <tr>\n",
       "      <th>27</th>\n",
       "      <td>⑴ 早产儿</td>\n",
       "      <td>Disease</td>\n",
       "    </tr>\n",
       "    <tr>\n",
       "      <th>28</th>\n",
       "      <td>②既往有药物过敏史者</td>\n",
       "      <td>Allergy Intolerance</td>\n",
       "    </tr>\n",
       "    <tr>\n",
       "      <th>29</th>\n",
       "      <td>2）严重精神疾病</td>\n",
       "      <td>Disease</td>\n",
       "    </tr>\n",
       "    <tr>\n",
       "      <th>...</th>\n",
       "      <td>...</td>\n",
       "      <td>...</td>\n",
       "    </tr>\n",
       "    <tr>\n",
       "      <th>19970</th>\n",
       "      <td>6）颅面部创伤或烧伤；</td>\n",
       "      <td>Disease</td>\n",
       "    </tr>\n",
       "    <tr>\n",
       "      <th>19971</th>\n",
       "      <td>（5）中枢神经系统损害；</td>\n",
       "      <td>Disease</td>\n",
       "    </tr>\n",
       "    <tr>\n",
       "      <th>19972</th>\n",
       "      <td>（1）2015年1月至2017年5月上海市第六人民医院创伤外科因C3型pilon骨折接受前方...</td>\n",
       "      <td>Skip</td>\n",
       "    </tr>\n",
       "    <tr>\n",
       "      <th>19973</th>\n",
       "      <td>2.其他类型Chiari畸形患者，以及合并有颅底凹陷、寰枢椎脱位、脊柱侧弯者</td>\n",
       "      <td>Disease</td>\n",
       "    </tr>\n",
       "    <tr>\n",
       "      <th>19974</th>\n",
       "      <td>1.年龄＞18岁的成年人群；</td>\n",
       "      <td>Age</td>\n",
       "    </tr>\n",
       "    <tr>\n",
       "      <th>19975</th>\n",
       "      <td>4、成人（14-60岁）</td>\n",
       "      <td>Age</td>\n",
       "    </tr>\n",
       "    <tr>\n",
       "      <th>19976</th>\n",
       "      <td>8. Subject refusal.</td>\n",
       "      <td>Skip</td>\n",
       "    </tr>\n",
       "    <tr>\n",
       "      <th>19977</th>\n",
       "      <td>2 体内植入金属</td>\n",
       "      <td>Device</td>\n",
       "    </tr>\n",
       "    <tr>\n",
       "      <th>19978</th>\n",
       "      <td>3.体内有金属植入物（人工耳蜗、起搏器、骨折内固定、支架等）；</td>\n",
       "      <td>Device</td>\n",
       "    </tr>\n",
       "    <tr>\n",
       "      <th>19979</th>\n",
       "      <td>4.合并输卵管积水患者；</td>\n",
       "      <td>Disease</td>\n",
       "    </tr>\n",
       "    <tr>\n",
       "      <th>19980</th>\n",
       "      <td>（3）输卵管因素：明显的输卵管积液；</td>\n",
       "      <td>Disease</td>\n",
       "    </tr>\n",
       "    <tr>\n",
       "      <th>19981</th>\n",
       "      <td>3. 输卵管积液；</td>\n",
       "      <td>Disease</td>\n",
       "    </tr>\n",
       "    <tr>\n",
       "      <th>19982</th>\n",
       "      <td>2. 膜周部室间隔缺损；</td>\n",
       "      <td>Disease</td>\n",
       "    </tr>\n",
       "    <tr>\n",
       "      <th>19983</th>\n",
       "      <td>×先天发育异常</td>\n",
       "      <td>Disease</td>\n",
       "    </tr>\n",
       "    <tr>\n",
       "      <th>19984</th>\n",
       "      <td>3、 胎儿畸形</td>\n",
       "      <td>Disease</td>\n",
       "    </tr>\n",
       "    <tr>\n",
       "      <th>19985</th>\n",
       "      <td>3.排除子宫畸形</td>\n",
       "      <td>Disease</td>\n",
       "    </tr>\n",
       "    <tr>\n",
       "      <th>19986</th>\n",
       "      <td>5）缺牙患者</td>\n",
       "      <td>Disease</td>\n",
       "    </tr>\n",
       "    <tr>\n",
       "      <th>19987</th>\n",
       "      <td>3.严重呼吸道畸形：气管支气管软化症、血管环综合征、先天性气管狭窄、气管食管瘘、肺大叶气肿...</td>\n",
       "      <td>Disease</td>\n",
       "    </tr>\n",
       "    <tr>\n",
       "      <th>19988</th>\n",
       "      <td>3)患有先天性遗传代谢性疾病。</td>\n",
       "      <td>Disease</td>\n",
       "    </tr>\n",
       "    <tr>\n",
       "      <th>19989</th>\n",
       "      <td>1、消化系统畸形；</td>\n",
       "      <td>Disease</td>\n",
       "    </tr>\n",
       "    <tr>\n",
       "      <th>19990</th>\n",
       "      <td>4 宫旁阳性</td>\n",
       "      <td>Laboratory Examinations</td>\n",
       "    </tr>\n",
       "    <tr>\n",
       "      <th>19991</th>\n",
       "      <td>（5）合并肿瘤、血管畸形和动脉瘤；</td>\n",
       "      <td>Disease</td>\n",
       "    </tr>\n",
       "    <tr>\n",
       "      <th>19992</th>\n",
       "      <td>④灰线移位。</td>\n",
       "      <td>Disease</td>\n",
       "    </tr>\n",
       "    <tr>\n",
       "      <th>19993</th>\n",
       "      <td>(2)青少年；</td>\n",
       "      <td>Age</td>\n",
       "    </tr>\n",
       "    <tr>\n",
       "      <th>19994</th>\n",
       "      <td>（5）婴幼儿。</td>\n",
       "      <td>Age</td>\n",
       "    </tr>\n",
       "    <tr>\n",
       "      <th>19995</th>\n",
       "      <td>(4)进行全身麻醉；</td>\n",
       "      <td>Therapy or Surgery</td>\n",
       "    </tr>\n",
       "    <tr>\n",
       "      <th>19996</th>\n",
       "      <td>9) 可耐受全身麻醉；</td>\n",
       "      <td>Therapy or Surgery</td>\n",
       "    </tr>\n",
       "    <tr>\n",
       "      <th>19997</th>\n",
       "      <td>18)负荷检查前停用茶碱类药物或含咖啡因及茶碱的饮料的时间小于12 h；</td>\n",
       "      <td>Multiple</td>\n",
       "    </tr>\n",
       "    <tr>\n",
       "      <th>19998</th>\n",
       "      <td>（8）精神上或法律上的残疾患者；</td>\n",
       "      <td>Disease</td>\n",
       "    </tr>\n",
       "    <tr>\n",
       "      <th>19999</th>\n",
       "      <td>e）无烟、酒嗜好；</td>\n",
       "      <td>Addictive Behavior</td>\n",
       "    </tr>\n",
       "  </tbody>\n",
       "</table>\n",
       "<p>20000 rows × 2 columns</p>\n",
       "</div>"
      ],
      "text/plain": [
       "                                                    text  \\\n",
       "0                                               8. 胰腺炎病史   \n",
       "1                                                 3、孕妇。    \n",
       "2                      11、既往有脑积水、脑室腹腔分流术或三脑室底造瘘及终板造瘘术病史。   \n",
       "3                                             1、孕妇和哺乳期妇女   \n",
       "4                                                 （4）高血压   \n",
       "5                                        1. 15&gt;GFR≤60   \n",
       "6       (2) Foetal malpresentation contraindicating v...   \n",
       "7                                                4.窦性心律；   \n",
       "8                                               1、窦性心动过缓   \n",
       "9                          9.在服用研究药物前28 天服用了任何改变肝酶活性的药物。   \n",
       "10                                                ⑥妊娠者。    \n",
       "11                                             （7）心律失常。    \n",
       "12                                                 1型糖尿病   \n",
       "13                                              5.多中心病灶。   \n",
       "14                                              5.肾功能正常；   \n",
       "15                                         4）患者及家属不同意配合；   \n",
       "16                            5. hemodynamically stable;   \n",
       "17                                              （6）糖尿病患者   \n",
       "18      (11)妊娠或哺乳期妇女及计划怀孕患者或无法采取有效避孕措施的育龄期患者,育龄期女性患者尿...   \n",
       "19                             (5)通过直接提问和体检，有任何显著的临床疾病者；   \n",
       "20                                         1) 患者病情处于不稳定期   \n",
       "21                          1）既往无耳内镜下手术史，双侧耳内镜下手术者只计入一侧；   \n",
       "22                                               （2）早产儿；   \n",
       "23                                     8. 妊娠、准备妊娠或哺乳期女性；   \n",
       "24                                    c)具有视野缺损或视觉诱发电位异常；   \n",
       "25                              3. History of psychosis;   \n",
       "26                                             ①脊柱外科手术史。   \n",
       "27                                                 ⑴ 早产儿   \n",
       "28                                           ②既往有药物过敏史者    \n",
       "29                                              2）严重精神疾病   \n",
       "...                                                  ...   \n",
       "19970                                        6）颅面部创伤或烧伤；   \n",
       "19971                                       （5）中枢神经系统损害；   \n",
       "19972  （1）2015年1月至2017年5月上海市第六人民医院创伤外科因C3型pilon骨折接受前方...   \n",
       "19973             2.其他类型Chiari畸形患者，以及合并有颅底凹陷、寰枢椎脱位、脊柱侧弯者   \n",
       "19974                                     1.年龄＞18岁的成年人群；   \n",
       "19975                                       4、成人（14-60岁）   \n",
       "19976                               8. Subject refusal.    \n",
       "19977                                           2 体内植入金属   \n",
       "19978                    3.体内有金属植入物（人工耳蜗、起搏器、骨折内固定、支架等）；   \n",
       "19979                                       4.合并输卵管积水患者；   \n",
       "19980                                 （3）输卵管因素：明显的输卵管积液；   \n",
       "19981                                          3. 输卵管积液；   \n",
       "19982                                       2. 膜周部室间隔缺损；   \n",
       "19983                                           ×先天发育异常    \n",
       "19984                                            3、 胎儿畸形   \n",
       "19985                                          3.排除子宫畸形    \n",
       "19986                                            5）缺牙患者    \n",
       "19987   3.严重呼吸道畸形：气管支气管软化症、血管环综合征、先天性气管狭窄、气管食管瘘、肺大叶气肿...   \n",
       "19988                                    3)患有先天性遗传代谢性疾病。   \n",
       "19989                                          1、消化系统畸形；   \n",
       "19990                                             4 宫旁阳性   \n",
       "19991                                  （5）合并肿瘤、血管畸形和动脉瘤；   \n",
       "19992                                            ④灰线移位。    \n",
       "19993                                            (2)青少年；   \n",
       "19994                                           （5）婴幼儿。    \n",
       "19995                                         (4)进行全身麻醉；   \n",
       "19996                                        9) 可耐受全身麻醉；   \n",
       "19997               18)负荷检查前停用茶碱类药物或含咖啡因及茶碱的饮料的时间小于12 h；   \n",
       "19998                                   （8）精神上或法律上的残疾患者；   \n",
       "19999                                          e）无烟、酒嗜好；   \n",
       "\n",
       "                            label  \n",
       "0                         Disease  \n",
       "1      Pregnancy-related Activity  \n",
       "2                            Skip  \n",
       "3      Pregnancy-related Activity  \n",
       "4                         Disease  \n",
       "5         Laboratory Examinations  \n",
       "6                            Skip  \n",
       "7                            Sign  \n",
       "8                            Sign  \n",
       "9                            Skip  \n",
       "10     Pregnancy-related Activity  \n",
       "11                           Sign  \n",
       "12                        Disease  \n",
       "13                           Sign  \n",
       "14         Organ or Tissue Status  \n",
       "15                        Consent  \n",
       "16                           Skip  \n",
       "17                        Disease  \n",
       "18                           Skip  \n",
       "19                        Disease  \n",
       "20     Non-Neoplasm Disease Stage  \n",
       "21             Therapy or Surgery  \n",
       "22                        Disease  \n",
       "23                           Skip  \n",
       "24                        Disease  \n",
       "25                           Skip  \n",
       "26             Therapy or Surgery  \n",
       "27                        Disease  \n",
       "28            Allergy Intolerance  \n",
       "29                        Disease  \n",
       "...                           ...  \n",
       "19970                     Disease  \n",
       "19971                     Disease  \n",
       "19972                        Skip  \n",
       "19973                     Disease  \n",
       "19974                         Age  \n",
       "19975                         Age  \n",
       "19976                        Skip  \n",
       "19977                      Device  \n",
       "19978                      Device  \n",
       "19979                     Disease  \n",
       "19980                     Disease  \n",
       "19981                     Disease  \n",
       "19982                     Disease  \n",
       "19983                     Disease  \n",
       "19984                     Disease  \n",
       "19985                     Disease  \n",
       "19986                     Disease  \n",
       "19987                     Disease  \n",
       "19988                     Disease  \n",
       "19989                     Disease  \n",
       "19990     Laboratory Examinations  \n",
       "19991                     Disease  \n",
       "19992                     Disease  \n",
       "19993                         Age  \n",
       "19994                         Age  \n",
       "19995          Therapy or Surgery  \n",
       "19996          Therapy or Surgery  \n",
       "19997                    Multiple  \n",
       "19998                     Disease  \n",
       "19999          Addictive Behavior  \n",
       "\n",
       "[20000 rows x 2 columns]"
      ]
     },
     "execution_count": 4,
     "metadata": {},
     "output_type": "execute_result"
    }
   ],
   "source": [
    "#Load Data...\n",
    "data = pd.read_excel('./data.xlsx',usecols=[1,2])\n",
    "data.columns = ['text','label']\n",
    "data"
   ]
  },
  {
   "cell_type": "code",
   "execution_count": 5,
   "metadata": {},
   "outputs": [
    {
     "data": {
      "image/png": "[encoded data removed]",
      "text/plain": [
       "<Figure size 1008x864 with 1 Axes>"
      ]
     },
     "metadata": {
      "needs_background": "light"
     },
     "output_type": "display_data"
    }
   ],
   "source": [
    "def labelSnapShot(data):\n",
    "    \n",
    "    LABEL_GROUPS = {'Health Status':['Disease', 'Symptom', 'Sign', 'Pregnancy-related Activity', \n",
    "'Neoplasm Status', 'Non-Neoplasm Disease Stage', 'Allergy Intolerance', 'Organ or Tissue Status', \n",
    "'Life Expectancy', 'Oral related'],\n",
    "\n",
    "'Treatment or Health Care': ['Pharmaceutical Substance or Drug', 'Therapy or Surgery', 'Device', 'Nursing'],\n",
    "\n",
    "'Diagnostic or Lab Test':['Diagnostic', 'Laboratory Examinations', 'Risk Assessment', 'Receptor Status'],\n",
    "\n",
    "'Demographic Characteristics':['Age', 'Special Patient Characteristic', 'Literacy', 'Gender', \n",
    "'Education', 'Address', 'Ethnicity'],\n",
    "\n",
    "'Ethical Consideration':['Consent', 'Enrollment in other studies', 'Researcher Decision', 'Capacity', 'Ethical Audit', \n",
    "'Compliance with Protocol'],\n",
    "\n",
    "'Lifestyle Choice':['Addictive Behavior', 'Bedtime', 'Exercise', 'Diet', 'Alcohol Consumer', \n",
    "'Sexual Orientation', 'Smoking Status', 'Living Alone', 'Blood Donation'],\n",
    "\n",
    "'Data or Patient Source':['Encounter', 'Disabilities', 'Healthy', 'Data Accessible'],\n",
    "\n",
    "'Other':['Skip', 'Multiple'],}\n",
    "    \n",
    "    label_stats = dict(data.label.value_counts())\n",
    "    \n",
    "    _labelList = []\n",
    "    for topic in ['Health Status','Treatment or Health Care','Diagnostic or Lab Test',\n",
    "                 'Demographic Characteristics','Ethical Consideration','Lifestyle Choice',\n",
    "                 'Data or Patient Source','Other']:\n",
    "        for label in LABEL_GROUPS[topic]:\n",
    "            _labelList.append(label)\n",
    "\n",
    "    _labelListValue = [label_stats[label] for label in _labelList]\n",
    "    \n",
    "    fig, ax = plt.subplots(figsize=(14,12))\n",
    "    \n",
    "    def labelDescribeColor(label_groups):\n",
    "        colorList = []\n",
    "        for _ in label_groups['Health Status']:\n",
    "            colorList.append('green')\n",
    "        for _ in label_groups['Treatment or Health Care']:\n",
    "            colorList.append('orange')\n",
    "        for _ in label_groups['Diagnostic or Lab Test']:\n",
    "            colorList.append('gray')\n",
    "        for _ in label_groups['Demographic Characteristics']:\n",
    "            colorList.append('orchid')\n",
    "        for _ in label_groups['Ethical Consideration']:\n",
    "            colorList.append('teal')\n",
    "        for _ in label_groups['Lifestyle Choice']:\n",
    "            colorList.append('red')\n",
    "        for _ in label_groups['Data or Patient Source']:\n",
    "            colorList.append('yellowgreen')\n",
    "        for _ in label_groups['Other']:\n",
    "            colorList.append('blue')\n",
    "        return colorList\n",
    "    plt.barh(_labelList,_labelListValue, color = labelDescribeColor(LABEL_GROUPS))\n",
    "    start, end = ax.get_xlim() \n",
    "    ax.xaxis.set_ticks(np.arange(start, end, 500))\n",
    "    ax.xaxis.set_tick_params(labelsize=15,colors='black')\n",
    "    ax.yaxis.set_tick_params(labelsize = 13)\n",
    "    \n",
    "labelSnapShot(data)"
   ]
  },
  {
   "cell_type": "code",
   "execution_count": 6,
   "metadata": {
    "scrolled": true
   },
   "outputs": [
    {
     "data": {
      "image/png": "[encoded data removed]",
      "text/plain": [
       "<Figure size 1008x504 with 1 Axes>"
      ]
     },
     "metadata": {
      "needs_background": "light"
     },
     "output_type": "display_data"
    }
   ],
   "source": [
    "data['textLen'] = data['text'].str.len()\n",
    "def textSnapShot(data):\n",
    "    text_stats = dict(data.textLen.value_counts())\n",
    "    fig, ax = plt.subplots(figsize = (14,7))\n",
    "    plt.bar(text_stats.keys(),text_stats.values())\n",
    "    ax.set_title('Distribution of Text Length',fontsize=18)\n",
    "    ax.set_xlabel('Text Length', fontsize=18,fontstyle='italic')\n",
    "    ax.set_ylabel('Quantities', fontsize='x-large',fontstyle='oblique')\n",
    "    y_start, y_end = ax.get_ylim()\n",
    "    ax.yaxis.set_ticks(np.arange(y_start, y_end, 100))\n",
    "\n",
    "textSnapShot(data)\n",
    "del data['textLen']"
   ]
  },
  {
   "cell_type": "code",
   "execution_count": 7,
   "metadata": {},
   "outputs": [],
   "source": [
    "def cleanText(string):\n",
    "    p = re.compile('^\\s*[?.，．.-]?[(|（|\\[]?[0-9|a-zA-Z]*[)|）|\\]]?\\s*[、|. ．]?')\n",
    "    string = p.sub('',string)\n",
    "\n",
    "    p_1 = re.compile('^\\s*[①|②|③|④|⑤|⑥|⑦|⑧|⑨|⑩|●|-]?')\n",
    "    string = p_1.sub('',string)\n",
    "    \n",
    "    p_2 = re.compile('^\\s*[⑴|⑵|⑶|⑷|⑸|⑹|⑺|⑻|⑼|⑽|⑾|⑿|⒀|⒁|⒂|⒃|⒄|⒅|⒆|⒇]?')\n",
    "    string = p_2.sub('',string)\n",
    "    \n",
    "    string = string.replace('\\xa0','').replace('&lt','<').replace('&gt','>').lower()\n",
    "    string = re.sub(r\"[。;；, 、（）：，]\", \" \", string)\n",
    "    return string.strip()\n",
    "\n",
    "data['text_copy'] = data['text']\n",
    "data['text_copy'] = data['text_copy'].apply(cleanText)"
   ]
  },
  {
   "cell_type": "code",
   "execution_count": 8,
   "metadata": {},
   "outputs": [],
   "source": [
    "labelEncoder = LabelEncoder()\n",
    "labelEncoder.fit(data.label.tolist())\n",
    "data['label'] = labelEncoder.transform(data.label.tolist())"
   ]
  },
  {
   "cell_type": "code",
   "execution_count": 9,
   "metadata": {},
   "outputs": [],
   "source": [
    "bert_tokenizer = BertTokenizer.from_pretrained(model_dir, do_lower_case=False)"
   ]
  },
  {
   "cell_type": "code",
   "execution_count": 10,
   "metadata": {},
   "outputs": [],
   "source": [
    "class DataPrecessForSingleSentence(object):\n",
    "    \"\"\"\n",
    "    对文本进行处理\n",
    "    \"\"\"\n",
    "    def __init__(self, bert_tokenizer, max_workers=10):\n",
    "        \"\"\"\n",
    "        bert_tokenizer :分词器\n",
    "        dataset        :包含列名为'text'与'label'的pandas dataframe\n",
    "        \"\"\"\n",
    "        self.bert_tokenizer = bert_tokenizer\n",
    "        # 创建多线程池\n",
    "        self.pool = ThreadPoolExecutor(max_workers=max_workers)\n",
    "        # 获取文本与标签\n",
    "        \n",
    "    def get_input(self, dataset, max_seq_len=150):\n",
    "        \"\"\"\n",
    "        通过多线程（因为notebook中多进程使用存在一些问题）的方式对输入文本进行分词、ID化、截断、填充等流程得到最终的可用于模型输入的序列。\n",
    "        \n",
    "        入参:\n",
    "            dataset     : pandas的dataframe格式，包含两列，第一列为文本，第二列为标签。\n",
    "            max_seq_len : 目标序列长度，该值需要预先对文本长度进行分别得到，可以设置为小于等于512（BERT的最长文本序列长度为512）的整数。\n",
    "        \n",
    "        出参:\n",
    "            seq         : 在入参seq的头尾分别拼接了'CLS'与'SEP'符号，如果长度仍小于max_seq_len，则使用0在尾部进行了填充。\n",
    "            seq_mask    : 只包含0、1且长度等于seq的序列，用于表征seq中的符号是否是有意义的，如果seq序列对应位上为填充符号，\n",
    "                          那么取值为1，否则为0。\n",
    "            seq_segment : shape等于seq，因为是单句，所以取值都为0。\n",
    "            labels      : 标签取值为{0~len(labels)-1}。\n",
    "        \n",
    "            \n",
    "        \"\"\"\n",
    "        sentences = dataset.iloc[:, 2].tolist()\n",
    "        labels = dataset.iloc[:, 1].tolist()\n",
    "        # 切词\n",
    "        tokens_seq = list(\n",
    "            self.pool.map(self.bert_tokenizer.tokenize, sentences))\n",
    "        # 获取定长序列及其mask\n",
    "        result = list(\n",
    "            self.pool.map(self.trunate_and_pad, tokens_seq,\n",
    "                          [max_seq_len] * len(tokens_seq)))\n",
    "        seqs = [i[0] for i in result]\n",
    "        seq_masks = [i[1] for i in result]\n",
    "        seq_segments = [i[2] for i in result]\n",
    "        return seqs, seq_masks, seq_segments, labels\n",
    "    \n",
    "    def trunate_and_pad(self, seq, max_seq_len):\n",
    "        \"\"\"\n",
    "        1. 因为本类处理的是单句序列，按照BERT中的序列处理方式，需要在输入序列头尾分别拼接特殊字符'CLS'与'SEP'，\n",
    "           因此不包含两个特殊字符的序列长度应该小于等于max_seq_len-2，如果序列长度大于该值需要那么进行截断。\n",
    "        2. 对输入的序列 最终形成['CLS',seq,'SEP']的序列，该序列的长度如果小于max_seq_len，那么使用0进行填充。\n",
    "        \n",
    "        入参: \n",
    "            seq         : 输入序列，在本处其为单个句子。\n",
    "            max_seq_len : 拼接'CLS'与'SEP'这两个特殊字符后的序列长度\n",
    "        \n",
    "        出参:\n",
    "            seq         : 在入参seq的头尾分别拼接了'CLS'与'SEP'符号，如果长度仍小于max_seq_len，则使用0在尾部进行了填充。\n",
    "            seq_mask    : 只包含0、1且长度等于seq的序列，用于表征seq中的符号是否是有意义的，如果seq序列对应位上为填充符号，\n",
    "                          那么取值为1，否则为0。\n",
    "            seq_segment : shape等于seq，因为是单句，所以取值都为0。\n",
    "           \n",
    "        \"\"\"\n",
    "        # 对超长序列进行截断\n",
    "        if len(seq) > (max_seq_len - 2):\n",
    "            seq = seq[0:(max_seq_len - 2)]\n",
    "        # 分别在首尾拼接特殊符号\n",
    "        seq = ['[CLS]'] + seq + ['[SEP]']\n",
    "        # ID化\n",
    "        seq = self.bert_tokenizer.convert_tokens_to_ids(seq)\n",
    "        # 根据max_seq_len与seq的长度产生填充序列\n",
    "        padding = [0] * (max_seq_len - len(seq))\n",
    "        # 创建seq_mask\n",
    "        seq_mask = [1] * len(seq) + padding\n",
    "        # 创建seq_segment\n",
    "        seq_segment = [0] * len(seq) + padding\n",
    "        # 对seq拼接填充序列\n",
    "        seq += padding\n",
    "        assert len(seq) == max_seq_len\n",
    "        assert len(seq_mask) == max_seq_len\n",
    "        assert len(seq_segment) == max_seq_len\n",
    "        return seq, seq_mask, seq_segment"
   ]
  },
  {
   "cell_type": "code",
   "execution_count": 11,
   "metadata": {},
   "outputs": [],
   "source": [
    "# 类初始化\n",
    "processor = DataPrecessForSingleSentence(bert_tokenizer= bert_tokenizer)\n",
    "# 产生输入数据\n",
    "seqs, seq_masks, seq_segments, labels = processor.get_input(dataset=data, max_seq_len=150)"
   ]
  },
  {
   "cell_type": "code",
   "execution_count": 11,
   "metadata": {},
   "outputs": [],
   "source": [
    "# 加载预训练的bert模型\n",
    "model = BertForSequenceClassification.from_pretrained(model_dir, num_labels= 46)"
   ]
  },
  {
   "cell_type": "code",
   "execution_count": 12,
   "metadata": {},
   "outputs": [],
   "source": [
    "# 转换为torch tensor\n",
    "t_seqs = torch.tensor(seqs, dtype=torch.long)\n",
    "t_seq_masks = torch.tensor(seq_masks, dtype = torch.long)\n",
    "t_seq_segments = torch.tensor(seq_segments, dtype = torch.long)\n",
    "t_labels = torch.tensor(labels, dtype = torch.long)\n",
    "\n",
    "train_data = TensorDataset(t_seqs, t_seq_masks, t_seq_segments, t_labels)\n",
    "train_sampler = RandomSampler(train_data)\n",
    "train_dataloder = DataLoader(dataset= train_data, sampler= train_sampler,batch_size = 64)"
   ]
  },
  {
   "cell_type": "code",
   "execution_count": 13,
   "metadata": {
    "scrolled": true
   },
   "outputs": [
    {
     "data": {
      "text/plain": [
       "BertForSequenceClassification(\n",
       "  (bert): BertModel(\n",
       "    (embeddings): BertEmbeddings(\n",
       "      (word_embeddings): Embedding(21128, 1024, padding_idx=0)\n",
       "      (position_embeddings): Embedding(512, 1024)\n",
       "      (token_type_embeddings): Embedding(2, 1024)\n",
       "      (LayerNorm): LayerNorm((1024,), eps=1e-12, elementwise_affine=True)\n",
       "      (dropout): Dropout(p=0.1, inplace=False)\n",
       "    )\n",
       "    (encoder): BertEncoder(\n",
       "      (layer): ModuleList(\n",
       "        (0): BertLayer(\n",
       "          (attention): BertAttention(\n",
       "            (self): BertSelfAttention(\n",
       "              (query): Linear(in_features=1024, out_features=1024, bias=True)\n",
       "              (key): Linear(in_features=1024, out_features=1024, bias=True)\n",
       "              (value): Linear(in_features=1024, out_features=1024, bias=True)\n",
       "              (dropout): Dropout(p=0.1, inplace=False)\n",
       "            )\n",
       "            (output): BertSelfOutput(\n",
       "              (dense): Linear(in_features=1024, out_features=1024, bias=True)\n",
       "              (LayerNorm): LayerNorm((1024,), eps=1e-12, elementwise_affine=True)\n",
       "              (dropout): Dropout(p=0.1, inplace=False)\n",
       "            )\n",
       "          )\n",
       "          (intermediate): BertIntermediate(\n",
       "            (dense): Linear(in_features=1024, out_features=4096, bias=True)\n",
       "          )\n",
       "          (output): BertOutput(\n",
       "            (dense): Linear(in_features=4096, out_features=1024, bias=True)\n",
       "            (LayerNorm): LayerNorm((1024,), eps=1e-12, elementwise_affine=True)\n",
       "            (dropout): Dropout(p=0.1, inplace=False)\n",
       "          )\n",
       "        )\n",
       "        (1): BertLayer(\n",
       "          (attention): BertAttention(\n",
       "            (self): BertSelfAttention(\n",
       "              (query): Linear(in_features=1024, out_features=1024, bias=True)\n",
       "              (key): Linear(in_features=1024, out_features=1024, bias=True)\n",
       "              (value): Linear(in_features=1024, out_features=1024, bias=True)\n",
       "              (dropout): Dropout(p=0.1, inplace=False)\n",
       "            )\n",
       "            (output): BertSelfOutput(\n",
       "              (dense): Linear(in_features=1024, out_features=1024, bias=True)\n",
       "              (LayerNorm): LayerNorm((1024,), eps=1e-12, elementwise_affine=True)\n",
       "              (dropout): Dropout(p=0.1, inplace=False)\n",
       "            )\n",
       "          )\n",
       "          (intermediate): BertIntermediate(\n",
       "            (dense): Linear(in_features=1024, out_features=4096, bias=True)\n",
       "          )\n",
       "          (output): BertOutput(\n",
       "            (dense): Linear(in_features=4096, out_features=1024, bias=True)\n",
       "            (LayerNorm): LayerNorm((1024,), eps=1e-12, elementwise_affine=True)\n",
       "            (dropout): Dropout(p=0.1, inplace=False)\n",
       "          )\n",
       "        )\n",
       "        (2): BertLayer(\n",
       "          (attention): BertAttention(\n",
       "            (self): BertSelfAttention(\n",
       "              (query): Linear(in_features=1024, out_features=1024, bias=True)\n",
       "              (key): Linear(in_features=1024, out_features=1024, bias=True)\n",
       "              (value): Linear(in_features=1024, out_features=1024, bias=True)\n",
       "              (dropout): Dropout(p=0.1, inplace=False)\n",
       "            )\n",
       "            (output): BertSelfOutput(\n",
       "              (dense): Linear(in_features=1024, out_features=1024, bias=True)\n",
       "              (LayerNorm): LayerNorm((1024,), eps=1e-12, elementwise_affine=True)\n",
       "              (dropout): Dropout(p=0.1, inplace=False)\n",
       "            )\n",
       "          )\n",
       "          (intermediate): BertIntermediate(\n",
       "            (dense): Linear(in_features=1024, out_features=4096, bias=True)\n",
       "          )\n",
       "          (output): BertOutput(\n",
       "            (dense): Linear(in_features=4096, out_features=1024, bias=True)\n",
       "            (LayerNorm): LayerNorm((1024,), eps=1e-12, elementwise_affine=True)\n",
       "            (dropout): Dropout(p=0.1, inplace=False)\n",
       "          )\n",
       "        )\n",
       "      )\n",
       "    )\n",
       "    (pooler): BertPooler(\n",
       "      (dense): Linear(in_features=1024, out_features=1024, bias=True)\n",
       "      (activation): Tanh()\n",
       "    )\n",
       "  )\n",
       "  (dropout): Dropout(p=0.1, inplace=False)\n",
       "  (classifier): Linear(in_features=1024, out_features=46, bias=True)\n",
       ")"
      ]
     },
     "execution_count": 13,
     "metadata": {},
     "output_type": "execute_result"
    }
   ],
   "source": [
    "model.train()"
   ]
  },
  {
   "cell_type": "code",
   "execution_count": 14,
   "metadata": {},
   "outputs": [],
   "source": [
    "device=torch.device(\"cuda:0\" if torch.cuda.is_available() else \"cpu\")\n",
    "\n",
    "# 待优化的参数\n",
    "param_optimizer = list(model.named_parameters())\n",
    "no_decay = ['bias', 'LayerNorm.bias', 'LayerNorm.weight']\n",
    "\n",
    "optimizer_grouped_parameters = [\n",
    "    {\n",
    "        'params':\n",
    "        [p for n, p in param_optimizer if not any(nd in n for nd in no_decay)],\n",
    "        'weight_decay':\n",
    "        0.01\n",
    "    },\n",
    "    {\n",
    "        'params':\n",
    "        [p for n, p in param_optimizer if any(nd in n for nd in no_decay)],\n",
    "        'weight_decay':\n",
    "        0.0\n",
    "    }\n",
    "]\n",
    "\n",
    "\n",
    "# Parameters:\n",
    "lr = 2e-05\n",
    "max_grad_norm = 1.0\n",
    "num_training_steps = 1000\n",
    "num_warmup_steps = 100\n",
    "warmup_proportion = float(num_warmup_steps) / float(num_training_steps)  # 0.1\n",
    "\n",
    "optimizer = AdamW(model.parameters(), lr=lr, correct_bias=False)  # To reproduce BertAdam specific behavior set correct_bias=False\n",
    "scheduler = get_linear_schedule_with_warmup(optimizer, num_warmup_steps=num_warmup_steps, num_training_steps=num_training_steps)  # PyTorch scheduler"
   ]
  },
  {
   "cell_type": "code",
   "execution_count": 15,
   "metadata": {},
   "outputs": [
    {
     "name": "stderr",
     "output_type": "stream",
     "text": [
      "Epoch:   0%|          | 0/10 [00:00<?, ?it/s]/root/anaconda3/lib/python3.7/site-packages/ipykernel_launcher.py:5: TqdmDeprecationWarning: This function will be removed in tqdm==5.0.0\n",
      "Please use `tqdm.notebook.tqdm` instead of `tqdm.tqdm_notebook`\n",
      "  \"\"\"\n"
     ]
    },
    {
     "data": {
      "application/vnd.jupyter.widget-view+json": {
       "model_id": "2e59c25ef8884bfabe11e6f74a7cf4ad",
       "version_major": 2,
       "version_minor": 0
      },
      "text/plain": [
       "HBox(children=(FloatProgress(value=0.0, description='Iteration', max=313.0, style=ProgressStyle(description_wi…"
      ]
     },
     "metadata": {},
     "output_type": "display_data"
    },
    {
     "name": "stdout",
     "output_type": "stream",
     "text": [
      "0.490937"
     ]
    },
    {
     "name": "stderr",
     "output_type": "stream",
     "text": [
      "\r",
      "Epoch:  10%|█         | 1/10 [01:10<10:34, 70.47s/it]"
     ]
    },
    {
     "name": "stdout",
     "output_type": "stream",
     "text": [
      "\r",
      "0.742855\r",
      "0.463548\n"
     ]
    },
    {
     "data": {
      "application/vnd.jupyter.widget-view+json": {
       "model_id": "527d949f93d44aa59e0dad4af8759453",
       "version_major": 2,
       "version_minor": 0
      },
      "text/plain": [
       "HBox(children=(FloatProgress(value=0.0, description='Iteration', max=313.0, style=ProgressStyle(description_wi…"
      ]
     },
     "metadata": {},
     "output_type": "display_data"
    },
    {
     "name": "stdout",
     "output_type": "stream",
     "text": [
      "0.373294"
     ]
    },
    {
     "name": "stderr",
     "output_type": "stream",
     "text": [
      "\r",
      "Epoch:  20%|██        | 2/10 [02:26<09:38, 72.26s/it]"
     ]
    },
    {
     "name": "stdout",
     "output_type": "stream",
     "text": [
      "\r",
      "0.396526\r",
      "0.226137\n"
     ]
    },
    {
     "data": {
      "application/vnd.jupyter.widget-view+json": {
       "model_id": "4cb52640dfd7461fa710e5809d91b4df",
       "version_major": 2,
       "version_minor": 0
      },
      "text/plain": [
       "HBox(children=(FloatProgress(value=0.0, description='Iteration', max=313.0, style=ProgressStyle(description_wi…"
      ]
     },
     "metadata": {},
     "output_type": "display_data"
    },
    {
     "name": "stdout",
     "output_type": "stream",
     "text": [
      "0.496168"
     ]
    },
    {
     "name": "stderr",
     "output_type": "stream",
     "text": [
      "\r",
      "Epoch:  30%|███       | 3/10 [03:40<08:29, 72.74s/it]"
     ]
    },
    {
     "name": "stdout",
     "output_type": "stream",
     "text": [
      "\r",
      "0.251084\r",
      "0.361272\n"
     ]
    },
    {
     "data": {
      "application/vnd.jupyter.widget-view+json": {
       "model_id": "80ae6f34dde442088bef44e3b9d232dd",
       "version_major": 2,
       "version_minor": 0
      },
      "text/plain": [
       "HBox(children=(FloatProgress(value=0.0, description='Iteration', max=313.0, style=ProgressStyle(description_wi…"
      ]
     },
     "metadata": {},
     "output_type": "display_data"
    },
    {
     "name": "stdout",
     "output_type": "stream",
     "text": [
      "0.398563"
     ]
    },
    {
     "name": "stderr",
     "output_type": "stream",
     "text": [
      "\r",
      "Epoch:  40%|████      | 4/10 [04:58<07:25, 74.30s/it]"
     ]
    },
    {
     "name": "stdout",
     "output_type": "stream",
     "text": [
      "\r",
      "0.310484\r",
      "0.225080\n"
     ]
    },
    {
     "data": {
      "application/vnd.jupyter.widget-view+json": {
       "model_id": "6ce37996858a4411bae632995b45ad06",
       "version_major": 2,
       "version_minor": 0
      },
      "text/plain": [
       "HBox(children=(FloatProgress(value=0.0, description='Iteration', max=313.0, style=ProgressStyle(description_wi…"
      ]
     },
     "metadata": {},
     "output_type": "display_data"
    },
    {
     "name": "stdout",
     "output_type": "stream",
     "text": [
      "0.169455"
     ]
    },
    {
     "name": "stderr",
     "output_type": "stream",
     "text": [
      "\r",
      "Epoch:  50%|█████     | 5/10 [06:12<06:11, 74.23s/it]"
     ]
    },
    {
     "name": "stdout",
     "output_type": "stream",
     "text": [
      "\r",
      "0.217778\r",
      "0.228931\n"
     ]
    },
    {
     "data": {
      "application/vnd.jupyter.widget-view+json": {
       "model_id": "00aec8aefea24de8b2fc40eeff60086b",
       "version_major": 2,
       "version_minor": 0
      },
      "text/plain": [
       "HBox(children=(FloatProgress(value=0.0, description='Iteration', max=313.0, style=ProgressStyle(description_wi…"
      ]
     },
     "metadata": {},
     "output_type": "display_data"
    },
    {
     "name": "stdout",
     "output_type": "stream",
     "text": [
      "0.383321"
     ]
    },
    {
     "name": "stderr",
     "output_type": "stream",
     "text": [
      "\r",
      "Epoch:  60%|██████    | 6/10 [07:29<05:00, 75.11s/it]"
     ]
    },
    {
     "name": "stdout",
     "output_type": "stream",
     "text": [
      "\r",
      "0.271578\r",
      "0.224382\n"
     ]
    },
    {
     "data": {
      "application/vnd.jupyter.widget-view+json": {
       "model_id": "e094fcc778654508babeb7b2bd4d9c89",
       "version_major": 2,
       "version_minor": 0
      },
      "text/plain": [
       "HBox(children=(FloatProgress(value=0.0, description='Iteration', max=313.0, style=ProgressStyle(description_wi…"
      ]
     },
     "metadata": {},
     "output_type": "display_data"
    },
    {
     "name": "stdout",
     "output_type": "stream",
     "text": [
      "0.336637"
     ]
    },
    {
     "name": "stderr",
     "output_type": "stream",
     "text": [
      "\r",
      "Epoch:  70%|███████   | 7/10 [08:43<03:43, 74.62s/it]"
     ]
    },
    {
     "name": "stdout",
     "output_type": "stream",
     "text": [
      "\r",
      "0.357630\r",
      "0.302275\n"
     ]
    },
    {
     "data": {
      "application/vnd.jupyter.widget-view+json": {
       "model_id": "17ae5927b67b49819c60a081c65321ec",
       "version_major": 2,
       "version_minor": 0
      },
      "text/plain": [
       "HBox(children=(FloatProgress(value=0.0, description='Iteration', max=313.0, style=ProgressStyle(description_wi…"
      ]
     },
     "metadata": {},
     "output_type": "display_data"
    },
    {
     "name": "stdout",
     "output_type": "stream",
     "text": [
      "0.378558"
     ]
    },
    {
     "name": "stderr",
     "output_type": "stream",
     "text": [
      "\r",
      "Epoch:  80%|████████  | 8/10 [10:00<02:30, 75.44s/it]"
     ]
    },
    {
     "name": "stdout",
     "output_type": "stream",
     "text": [
      "\r",
      "0.302381\r",
      "0.355998\n"
     ]
    },
    {
     "data": {
      "application/vnd.jupyter.widget-view+json": {
       "model_id": "ca7b0f8f3dea446e9ab15813b4846b72",
       "version_major": 2,
       "version_minor": 0
      },
      "text/plain": [
       "HBox(children=(FloatProgress(value=0.0, description='Iteration', max=313.0, style=ProgressStyle(description_wi…"
      ]
     },
     "metadata": {},
     "output_type": "display_data"
    },
    {
     "name": "stdout",
     "output_type": "stream",
     "text": [
      "0.255095"
     ]
    },
    {
     "name": "stderr",
     "output_type": "stream",
     "text": [
      "\r",
      "Epoch:  90%|█████████ | 9/10 [11:14<01:14, 74.98s/it]"
     ]
    },
    {
     "name": "stdout",
     "output_type": "stream",
     "text": [
      "\r",
      "0.218676\r",
      "0.170121\n"
     ]
    },
    {
     "data": {
      "application/vnd.jupyter.widget-view+json": {
       "model_id": "f90497364c6e4039b77d4a1b4d2d22cd",
       "version_major": 2,
       "version_minor": 0
      },
      "text/plain": [
       "HBox(children=(FloatProgress(value=0.0, description='Iteration', max=313.0, style=ProgressStyle(description_wi…"
      ]
     },
     "metadata": {},
     "output_type": "display_data"
    },
    {
     "name": "stdout",
     "output_type": "stream",
     "text": [
      "0.181293"
     ]
    },
    {
     "name": "stderr",
     "output_type": "stream",
     "text": [
      "Epoch: 100%|██████████| 10/10 [12:32<00:00, 75.21s/it]"
     ]
    },
    {
     "name": "stdout",
     "output_type": "stream",
     "text": [
      "\r",
      "0.430358\r",
      "0.310074\n"
     ]
    },
    {
     "name": "stderr",
     "output_type": "stream",
     "text": [
      "\n"
     ]
    }
   ],
   "source": [
    "# 存储每一个batch的loss\n",
    "model.to(device)\n",
    "loss_collect = []\n",
    "for i in trange(10, desc='Epoch'):\n",
    "    for step, batch_data in enumerate(tqdm_notebook(train_dataloder, desc='Iteration')):\n",
    "        batch_data = tuple(t.to(device) for t in batch_data)\n",
    "        batch_seqs, batch_seq_masks, batch_seq_segments, batch_labels = batch_data\n",
    "        \n",
    "        # 对标签进行onehot编码\n",
    "        one_hot = torch.zeros(batch_labels.size(0), 46).long().to(device)\n",
    "        one_hot_batch_labels = one_hot.scatter_(\n",
    "            dim=1,\n",
    "            index=torch.unsqueeze(batch_labels, dim=1),\n",
    "            src=torch.ones(batch_labels.size(0), 46).long().to(device))\n",
    "        \n",
    "        \n",
    "        outputs = model(batch_seqs, batch_seq_masks, batch_seq_segments, labels = batch_labels)\n",
    "            \n",
    "        loss,logits = outputs[:2]\n",
    "        \n",
    "        optimizer.zero_grad() \n",
    "        \n",
    "        loss.backward()\n",
    "        loss_collect.append(loss.item())\n",
    "        print(\"\\r%f\" % loss, end='')\n",
    "        torch.nn.utils.clip_grad_norm_(model.parameters(), max_grad_norm)\n",
    "        optimizer.step()\n",
    "        scheduler.step()"
   ]
  },
  {
   "cell_type": "code",
   "execution_count": 16,
   "metadata": {},
   "outputs": [
    {
     "data": {
      "image/png": "[encoded data removed]",
      "text/plain": [
       "<Figure size 864x576 with 1 Axes>"
      ]
     },
     "metadata": {
      "needs_background": "light"
     },
     "output_type": "display_data"
    }
   ],
   "source": [
    "plt.figure(figsize=(12,8))\n",
    "plt.plot(range(len(loss_collect)), loss_collect,'g.')\n",
    "plt.grid(True)\n",
    "plt.show()"
   ]
  },
  {
   "cell_type": "code",
   "execution_count": 17,
   "metadata": {},
   "outputs": [],
   "source": [
    "torch.cuda.empty_cache()"
   ]
  },
  {
   "cell_type": "code",
   "execution_count": null,
   "metadata": {},
   "outputs": [],
   "source": []
  }
 ],
 "metadata": {
  "kernelspec": {
   "display_name": "Python 3",
   "language": "python",
   "name": "python3"
  },
  "language_info": {
   "codemirror_mode": {
    "name": "ipython",
    "version": 3
   },
   "file_extension": ".py",
   "mimetype": "text/x-python",
   "name": "python",
   "nbconvert_exporter": "python",
   "pygments_lexer": "ipython3",
   "version": "3.7.0"
  }
 },
 "nbformat": 4,
 "nbformat_minor": 2
}
